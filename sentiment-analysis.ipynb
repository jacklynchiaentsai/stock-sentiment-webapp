{
 "cells": [
  {
   "cell_type": "markdown",
   "metadata": {},
   "source": [
    "# Stock Sentiment Analysis\n",
    "Natural Language Processing project that uses financial news headlines from finviz (https://finviz.com) to visualize and compare stock prospects for selected tickers over time   \n",
    "\n",
    "The Sentiment Analysis Model is trained under 5 different approaches below, and the one with the best accuracy is selected as the final model.\n",
    "- MLP (Multi Layer Perceptron)\n",
    "- CNN (Convolutional Neural Netwrok)\n",
    "- RNN\n",
    "- LSTM\n",
    "- GRU\n"
   ]
  },
  {
   "cell_type": "code",
   "execution_count": 1,
   "metadata": {},
   "outputs": [],
   "source": [
    "# All imports\n",
    "import numpy as np\n",
    "import pandas as pd\n",
    "import matplotlib.pyplot as plt\n",
    "import seaborn as sns\n",
    "import string\n",
    "from keras.preprocessing import sequence\n",
    "from sklearn.model_selection import train_test_split"
   ]
  },
  {
   "cell_type": "markdown",
   "metadata": {},
   "source": [
    "## Training Data Set\n",
    "Sentiment Analysis data for Financial News (https://www.kaggle.com/datasets/ankurzing/sentiment-analysis-for-financial-news)   \n",
    "This dataset (FinancialPhraseBank) contains the sentiments for financial news headlines from the perspective of a retail investor."
   ]
  },
  {
   "cell_type": "code",
   "execution_count": 2,
   "metadata": {},
   "outputs": [
    {
     "data": {
      "text/html": [
       "<div>\n",
       "<style scoped>\n",
       "    .dataframe tbody tr th:only-of-type {\n",
       "        vertical-align: middle;\n",
       "    }\n",
       "\n",
       "    .dataframe tbody tr th {\n",
       "        vertical-align: top;\n",
       "    }\n",
       "\n",
       "    .dataframe thead th {\n",
       "        text-align: right;\n",
       "    }\n",
       "</style>\n",
       "<table border=\"1\" class=\"dataframe\">\n",
       "  <thead>\n",
       "    <tr style=\"text-align: right;\">\n",
       "      <th></th>\n",
       "      <th>label</th>\n",
       "      <th>headline</th>\n",
       "    </tr>\n",
       "  </thead>\n",
       "  <tbody>\n",
       "    <tr>\n",
       "      <th>0</th>\n",
       "      <td>neutral</td>\n",
       "      <td>According to Gran , the company has no plans t...</td>\n",
       "    </tr>\n",
       "    <tr>\n",
       "      <th>1</th>\n",
       "      <td>neutral</td>\n",
       "      <td>Technopolis plans to develop in stages an area...</td>\n",
       "    </tr>\n",
       "    <tr>\n",
       "      <th>2</th>\n",
       "      <td>negative</td>\n",
       "      <td>The international electronic industry company ...</td>\n",
       "    </tr>\n",
       "    <tr>\n",
       "      <th>3</th>\n",
       "      <td>positive</td>\n",
       "      <td>With the new production plant the company woul...</td>\n",
       "    </tr>\n",
       "    <tr>\n",
       "      <th>4</th>\n",
       "      <td>positive</td>\n",
       "      <td>According to the company 's updated strategy f...</td>\n",
       "    </tr>\n",
       "  </tbody>\n",
       "</table>\n",
       "</div>"
      ],
      "text/plain": [
       "      label                                           headline\n",
       "0   neutral  According to Gran , the company has no plans t...\n",
       "1   neutral  Technopolis plans to develop in stages an area...\n",
       "2  negative  The international electronic industry company ...\n",
       "3  positive  With the new production plant the company woul...\n",
       "4  positive  According to the company 's updated strategy f..."
      ]
     },
     "execution_count": 2,
     "metadata": {},
     "output_type": "execute_result"
    }
   ],
   "source": [
    "# reading csv file (debugging encoding)\n",
    "colnames=['label', 'headline'] \n",
    "df = pd.read_csv('./data/all-data.csv',delimiter=',',encoding='latin-1', names=colnames, header=None)\n",
    "df.head()"
   ]
  },
  {
   "cell_type": "code",
   "execution_count": 3,
   "metadata": {},
   "outputs": [
    {
     "data": {
      "text/plain": [
       "(4846, 2)"
      ]
     },
     "execution_count": 3,
     "metadata": {},
     "output_type": "execute_result"
    }
   ],
   "source": [
    "df.shape"
   ]
  },
  {
   "cell_type": "code",
   "execution_count": 4,
   "metadata": {},
   "outputs": [
    {
     "name": "stdout",
     "output_type": "stream",
     "text": [
      "label\n",
      "neutral     2879\n",
      "positive    1363\n",
      "negative     604\n",
      "Name: count, dtype: int64\n",
      "<class 'pandas.core.indexes.base.Index'>\n",
      "<class 'numpy.ndarray'>\n"
     ]
    }
   ],
   "source": [
    "cnt_pro = df['label'].value_counts()\n",
    "print(cnt_pro)\n",
    "print(type(cnt_pro.index))\n",
    "print(type(cnt_pro.values))"
   ]
  },
  {
   "cell_type": "code",
   "execution_count": 5,
   "metadata": {},
   "outputs": [
    {
     "data": {
      "image/png": "[encoded data removed]",
      "text/plain": [
       "<Figure size 1200x400 with 1 Axes>"
      ]
     },
     "metadata": {},
     "output_type": "display_data"
    }
   ],
   "source": [
    "# visualizing data\n",
    "cnt_pro = df['label'].value_counts()\n",
    "plt.figure(figsize=(12,4))\n",
    "# Create the bar plot and store the ax object\n",
    "ax = sns.barplot(x=cnt_pro.index, y=cnt_pro.values, alpha=0.8)\n",
    "\n",
    "# Add value labels on top of the bars\n",
    "for p in ax.patches:\n",
    "    height = int(p.get_height())  # Convert the height to an integer\n",
    "    ax.annotate(f'{height}', (p.get_x() + p.get_width() / 2., p.get_height()),\n",
    "                ha='center', va='center', fontsize=10, color='black', xytext=(0, 5),\n",
    "                textcoords='offset points')\n",
    "    \n",
    "plt.ylabel('Number of Occurrences', fontsize=12)\n",
    "plt.xlabel('sentiment', fontsize=12)\n",
    "plt.xticks(rotation=90)\n",
    "plt.show()"
   ]
  },
  {
   "cell_type": "markdown",
   "metadata": {},
   "source": [
    "## Data Processsing\n",
    "- converting label to numeric (postive: 1, neutral: 0, negative: -1)\n",
    "- cleaning text: tokenizing, removing punctuation, convert to lowercase\n",
    "- converting dataframe to numpy arrays\n",
    "- fixing input data to tensors with same dimensions"
   ]
  },
  {
   "cell_type": "code",
   "execution_count": 6,
   "metadata": {},
   "outputs": [
    {
     "name": "stdout",
     "output_type": "stream",
     "text": [
      "      label                                           headline\n",
      "0         0  According to Gran , the company has no plans t...\n",
      "1         0  Technopolis plans to develop in stages an area...\n",
      "2        -1  The international electronic industry company ...\n",
      "3         1  With the new production plant the company woul...\n",
      "4         1  According to the company 's updated strategy f...\n",
      "...     ...                                                ...\n",
      "4841     -1  LONDON MarketWatch -- Share prices ended lower...\n",
      "4842      0  Rinkuskiai 's beer sales fell by 6.5 per cent ...\n",
      "4843     -1  Operating profit fell to EUR 35.4 mn from EUR ...\n",
      "4844     -1  Net sales of the Paper segment decreased to EU...\n",
      "4845     -1  Sales in Finland decreased by 10.5 % in Januar...\n",
      "\n",
      "[4846 rows x 2 columns]\n"
     ]
    }
   ],
   "source": [
    "#Convert label to numeric\n",
    "sentiment  = {'positive': 1,'neutral': 0,'negative':-1} \n",
    "\n",
    "df.label = [sentiment[item] for item in df.label] \n",
    "print(df)"
   ]
  },
  {
   "cell_type": "code",
   "execution_count": 7,
   "metadata": {},
   "outputs": [
    {
     "name": "stdout",
     "output_type": "stream",
     "text": [
      "!\"#$%&'()*+,-/:;<=>?@[\\]^_`{|}~\n"
     ]
    }
   ],
   "source": [
    "# convert headline to list of strings\n",
    "# removing punctuation\n",
    "punctstr = string.punctuation\n",
    "punctstr = punctstr.replace('.','') # don't want to remove periods because they might represent decimal points\n",
    "print(punctstr)"
   ]
  },
  {
   "cell_type": "code",
   "execution_count": 8,
   "metadata": {},
   "outputs": [],
   "source": [
    "# cleaning text: puncuation, convert to lowercase\n",
    "punctstr = string.punctuation\n",
    "punctstr = punctstr.replace('.','') # don't want to remove periods because they might represent decimal points\n",
    "\n",
    "def cleanText(text):\n",
    "    text = text.lower()\n",
    "    text = text.translate(str.maketrans('', '', punctstr))\n",
    "    text = text.replace(' s ', ' ') # removing 's\n",
    "    text = text.split()\n",
    "    return text\n",
    "\n",
    "df['headline'] = df['headline'].apply(cleanText)"
   ]
  },
  {
   "cell_type": "code",
   "execution_count": 9,
   "metadata": {},
   "outputs": [
    {
     "name": "stdout",
     "output_type": "stream",
     "text": [
      "0     [according, to, gran, the, company, has, no, p...\n",
      "1     [technopolis, plans, to, develop, in, stages, ...\n",
      "2     [the, international, electronic, industry, com...\n",
      "3     [with, the, new, production, plant, the, compa...\n",
      "4     [according, to, the, company, updated, strateg...\n",
      "5     [financing, of, aspocomp, growth, aspocomp, is...\n",
      "6     [for, the, last, quarter, of, 2010, componenta...\n",
      "7     [in, the, third, quarter, of, 2010, net, sales...\n",
      "8     [operating, profit, rose, to, eur, 13.1, mn, f...\n",
      "9     [operating, profit, totalled, eur, 21.1, mn, u...\n",
      "10    [teliasonera, tlsn, said, the, offer, is, in, ...\n",
      "11    [stora, enso, norske, skog, mreal, upmkymmene,...\n",
      "12    [a, purchase, agreement, for, 7200, tons, of, ...\n",
      "13    [finnish, talentum, reports, its, operating, p...\n",
      "14    [clothing, retail, chain, seppælæ, sales, incr...\n",
      "15    [consolidated, net, sales, increased, 16, to, ...\n",
      "16    [foundries, division, reports, its, sales, inc...\n",
      "17    [helsinki, afx, shares, closed, higher, led, b...\n",
      "18    [incap, contract, manufacturing, services, pvt...\n",
      "19    [its, board, of, directors, will, propose, a, ...\n",
      "Name: headline, dtype: object\n",
      "46\n"
     ]
    }
   ],
   "source": [
    "print(df[:20].headline)\n",
    "print(len(df.loc[1863, 'headline']))"
   ]
  },
  {
   "cell_type": "code",
   "execution_count": 10,
   "metadata": {},
   "outputs": [],
   "source": [
    "#split into training and testing data (80% - 20%)\n",
    "X = df.drop('label', axis=1)  # Features\n",
    "y = df['label']              # Target\n",
    "\n",
    "# Set the proportion for training and testing (e.g., 80% for training, 20% for testing)\n",
    "test_size = 0.2\n",
    "\n",
    "# Split the data into training and testing sets \n",
    "X_train, X_test, y_train, y_test = train_test_split(X, y, test_size=test_size, random_state=42)\n"
   ]
  },
  {
   "cell_type": "code",
   "execution_count": 11,
   "metadata": {},
   "outputs": [
    {
     "name": "stdout",
     "output_type": "stream",
     "text": [
      "                                               headline\n",
      "432   [in, russia, raisio, food, division, home, mar...\n",
      "3071  [operators, only, need, to, learn, how, to, us...\n",
      "289   [the, company, expects, its, net, sales, in, t...\n",
      "2588  [the, bridge, will, be, 1.2, km, long, and, is...\n",
      "4121  [nokia, and, capcom, announced, that, resident...\n",
      "...                                                 ...\n",
      "4426  [the, currency, effect, had, a, 3.0, pct, or, ...\n",
      "466   [lidskoe, pivo, investment, program, foresees,...\n",
      "3092  [products, include, consumer, electronics, dev...\n",
      "3772  [the, bridge, is, part, of, the, highway, 14, ...\n",
      "860   [adp, news, oct, 1, 2008, finnish, consulting,...\n",
      "\n",
      "[3876 rows x 1 columns]\n",
      "432     0\n",
      "3071    0\n",
      "289     1\n",
      "2588    0\n",
      "4121    0\n",
      "       ..\n",
      "4426   -1\n",
      "466     1\n",
      "3092    0\n",
      "3772    0\n",
      "860     1\n",
      "Name: label, Length: 3876, dtype: int64\n"
     ]
    }
   ],
   "source": [
    "print(X_train)\n",
    "print(y_train)"
   ]
  },
  {
   "cell_type": "code",
   "execution_count": 12,
   "metadata": {},
   "outputs": [
    {
     "name": "stdout",
     "output_type": "stream",
     "text": [
      "[list(['in', 'russia', 'raisio', 'food', 'division', 'home', 'market', 'stretches', 'all', 'the', 'way', 'to', 'vladivostok', '.'])\n",
      " list(['operators', 'only', 'need', 'to', 'learn', 'how', 'to', 'use', 'one', 'device', 'for', 'multiple', 'levels', 'of', 'applications', 'including', 'voicedirected', 'operations', '.'])\n",
      " list(['the', 'company', 'expects', 'its', 'net', 'sales', 'in', 'the', 'first', 'half', 'of', '2008', 'to', 'reach', 'the', 'previous', 'year', 'level', '.'])\n",
      " ...\n",
      " list(['products', 'include', 'consumer', 'electronics', 'devices', 'such', 'as', 'mobile', 'phones', 'and', 'their', 'accessories', 'settop', 'boxes', 'flat', 'panel', 'tvs', 'as', 'well', 'as', 'system', 'solutions', 'products', 'such', 'as', 'infrastructure', 'systems', 'modules', 'and', 'other', 'industrial', 'segment', 'products', '.'])\n",
      " list(['the', 'bridge', 'is', 'part', 'of', 'the', 'highway', '14', 'development', 'project', '.'])\n",
      " list(['adp', 'news', 'oct', '1', '2008', 'finnish', 'consulting', 'and', 'engineering', 'company', 'poyry', 'oyj', 'omx', 'poy1v', 'said', 'today', 'it', 'was', 'awarded', 'a', 'eur', '5.2', 'million', 'usd', '7.4', 'm', 'extension', 'to', 'their', 'existing', 'consultancy', 'engineering', 'contract', 'with', 'venezuel'])]\n",
      "<class 'numpy.ndarray'>\n"
     ]
    }
   ],
   "source": [
    "# convert the training and testing data into numpy arrays\n",
    "X_train= X_train['headline'].values\n",
    "X_test = X_test['headline'].values\n",
    "\n",
    "print(X_train)\n",
    "print(type(X_train))\n"
   ]
  },
  {
   "cell_type": "code",
   "execution_count": 13,
   "metadata": {},
   "outputs": [
    {
     "name": "stdout",
     "output_type": "stream",
     "text": [
      "[0 0 1 ... 0 0 1]\n",
      "<class 'numpy.ndarray'>\n"
     ]
    }
   ],
   "source": [
    "# convert the training and testing data into numpy arrays\n",
    "# y is a pandas series so require different conversion\n",
    "y_train = y_train.to_numpy()\n",
    "y_test = y_test.to_numpy()\n",
    "print(y_train)\n",
    "print(type(y_train))"
   ]
  },
  {
   "cell_type": "code",
   "execution_count": 14,
   "metadata": {},
   "outputs": [],
   "source": [
    "# convert headline list to tensor and convert with same length (50)\n",
    "max_words = 50\n",
    "X_train = sequence.pad_sequences(X_train, maxlen = max_words, dtype=object)\n",
    "X_test = sequence.pad_sequences(X_test, maxlen=max_words, dtype=object)"
   ]
  },
  {
   "cell_type": "code",
   "execution_count": 15,
   "metadata": {},
   "outputs": [
    {
     "name": "stdout",
     "output_type": "stream",
     "text": [
      "X_train.shape:  (3876, 50)\n",
      "X_test.shape:  (970, 50)\n"
     ]
    }
   ],
   "source": [
    "print(\"X_train.shape: \",  X_train.shape)\n",
    "print(\"X_test.shape: \" , X_test.shape)"
   ]
  }
 ],
 "metadata": {
  "kernelspec": {
   "display_name": "Python 3",
   "language": "python",
   "name": "python3"
  },
  "language_info": {
   "codemirror_mode": {
    "name": "ipython",
    "version": 3
   },
   "file_extension": ".py",
   "mimetype": "text/x-python",
   "name": "python",
   "nbconvert_exporter": "python",
   "pygments_lexer": "ipython3",
   "version": "3.9.6"
  },
  "orig_nbformat": 4
 },
 "nbformat": 4,
 "nbformat_minor": 2
}
